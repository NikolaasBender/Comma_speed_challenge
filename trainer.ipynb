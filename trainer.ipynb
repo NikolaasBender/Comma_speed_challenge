{
 "metadata": {
  "language_info": {
   "codemirror_mode": {
    "name": "ipython",
    "version": 3
   },
   "file_extension": ".py",
   "mimetype": "text/x-python",
   "name": "python",
   "nbconvert_exporter": "python",
   "pygments_lexer": "ipython3",
   "version": "3.8.2-final"
  },
  "orig_nbformat": 2,
  "kernelspec": {
   "name": "python_defaultSpec_1600885665592",
   "display_name": "Python 3.8.2 64-bit"
  }
 },
 "nbformat": 4,
 "nbformat_minor": 2,
 "cells": [
  {
   "cell_type": "code",
   "execution_count": 4,
   "metadata": {
    "tags": []
   },
   "outputs": [
    {
     "output_type": "stream",
     "name": "stdout",
     "text": "569418  bits of data\ncuda\nresnet152\nready to train\n"
    }
   ],
   "source": [
    "# Prepare the data\n",
    "import numpy as np\n",
    "import cv2\n",
    "import torch\n",
    "import random\n",
    "import time\n",
    "import torch.optim as optim\n",
    "import torch.nn as nn\n",
    "import resnet_builds\n",
    "from torchvision import transforms, datasets\n",
    "import speedDataset\n",
    "\n",
    "BATCH_SIZE = 30\n",
    "\n",
    "\n",
    "data_transform = transforms.Compose([\n",
    "        transforms.ToTensor(),\n",
    "        transforms.Normalize(mean=[0.485, 0.456, 0.406],\n",
    "                             std=[0.229, 0.224, 0.225])\n",
    "    ])\n",
    "speed_dataset = speedDataset.ImageToSpeedDataset(csv='data/im_im_sp.csv',\n",
    "                                    root_dir='data/images/')\n",
    "dataset_loader = torch.utils.data.DataLoader(speed_dataset,\n",
    "                                             batch_size=BATCH_SIZE, shuffle=True,\n",
    "                                             num_workers=6)\n",
    "\n",
    "loser = nn.MSELoss()\n",
    "use_cuda = torch.cuda.is_available()\n",
    "device = torch.device(\"cuda\" if use_cuda else \"cpu\")\n",
    "print(device)\n",
    "\n",
    "m = resnet_builds.resnet152()\n",
    "if torch.cuda.device_count() > 1:\n",
    "  print(\"Let's use\", torch.cuda.device_count(), \"GPUs!\")\n",
    "  # dim = 0 [30, xxx] -> [10, ...], [10, ...], [10, ...] on 3 GPUs\n",
    "  m = nn.DataParallel(m)\n",
    "m.to(device)\n",
    "m.train()\n",
    "\n",
    "optimizer = optim.Adadelta(m.parameters(), lr=1.0)\n",
    "\n",
    "epochs = 200\n",
    "print(\"ready to train\")"
   ]
  },
  {
   "cell_type": "code",
   "execution_count": 5,
   "metadata": {
    "tags": []
   },
   "outputs": [
    {
     "output_type": "stream",
     "name": "stdout",
     "text": "0\nException ignored in:<function _MultiProcessingDataLoaderIter.__del__ at 0x7ff1f9e48430>\nTraceback (most recent call last):\nException ignored in:<function _MultiProcessingDataLoaderIter.__del__ at 0x7ff1f9e48430>\n  File \"/home/ubuntu/.local/lib/python3.8/site-packages/torch/utils/data/dataloader.py\", line 1101, in __del__\nException ignored in:self._shutdown_workers()Traceback (most recent call last):\n<function _MultiProcessingDataLoaderIter.__del__ at 0x7ff1f9e48430>Exception ignored in:\n\nException ignored in:Exception ignored in:<function _MultiProcessingDataLoaderIter.__del__ at 0x7ff1f9e48430>  File \"/home/ubuntu/.local/lib/python3.8/site-packages/torch/utils/data/dataloader.py\", line 1101, in __del__\n<function _MultiProcessingDataLoaderIter.__del__ at 0x7ff1f9e48430><function _MultiProcessingDataLoaderIter.__del__ at 0x7ff1f9e48430>\nTraceback (most recent call last):\n  File \"/home/ubuntu/.local/lib/python3.8/site-packages/torch/utils/data/dataloader.py\", line 1075, in _shutdown_workers\n  File \"/home/ubuntu/.local/lib/python3.8/site-packages/torch/utils/data/dataloader.py\", line 1101, in __del__\n\n\nw.join(timeout=_utils.MP_STATUS_CHECK_INTERVAL)Traceback (most recent call last):\n\n  File \"/home/ubuntu/.local/lib/python3.8/site-packages/torch/utils/data/dataloader.py\", line 1101, in __del__\nTraceback (most recent call last):\n  File \"/usr/lib/python3.8/multiprocessing/process.py\", line 147, in join\nself._shutdown_workers()  File \"/home/ubuntu/.local/lib/python3.8/site-packages/torch/utils/data/dataloader.py\", line 1101, in __del__\nself._shutdown_workers()Traceback (most recent call last):\n  File \"/home/ubuntu/.local/lib/python3.8/site-packages/torch/utils/data/dataloader.py\", line 1101, in __del__\nself._shutdown_workers()assert self._parent_pid == os.getpid(), 'can only join a child process'\n\n\n\nAssertionError  File \"/home/ubuntu/.local/lib/python3.8/site-packages/torch/utils/data/dataloader.py\", line 1075, in _shutdown_workers\nself._shutdown_workers()  File \"/home/ubuntu/.local/lib/python3.8/site-packages/torch/utils/data/dataloader.py\", line 1075, in _shutdown_workers\n  File \"/home/ubuntu/.local/lib/python3.8/site-packages/torch/utils/data/dataloader.py\", line 1075, in _shutdown_workers\n:can only join a child processw.join(timeout=_utils.MP_STATUS_CHECK_INTERVAL)\nself._shutdown_workers()w.join(timeout=_utils.MP_STATUS_CHECK_INTERVAL)\n  File \"/usr/lib/python3.8/multiprocessing/process.py\", line 147, in join\nw.join(timeout=_utils.MP_STATUS_CHECK_INTERVAL)  File \"/home/ubuntu/.local/lib/python3.8/site-packages/torch/utils/data/dataloader.py\", line 1075, in _shutdown_workers\n\n\n  File \"/usr/lib/python3.8/multiprocessing/process.py\", line 147, in join\n\n  File \"/home/ubuntu/.local/lib/python3.8/site-packages/torch/utils/data/dataloader.py\", line 1075, in _shutdown_workers\n\n  File \"/usr/lib/python3.8/multiprocessing/process.py\", line 147, in join\nassert self._parent_pid == os.getpid(), 'can only join a child process'w.join(timeout=_utils.MP_STATUS_CHECK_INTERVAL)\n\n  File \"/usr/lib/python3.8/multiprocessing/process.py\", line 147, in join\nassert self._parent_pid == os.getpid(), 'can only join a child process'\nAssertionErrorAssertionErrorassert self._parent_pid == os.getpid(), 'can only join a child process':\ncan only join a child process:AssertionError\ncan only join a child process:w.join(timeout=_utils.MP_STATUS_CHECK_INTERVAL)\n\n  File \"/usr/lib/python3.8/multiprocessing/process.py\", line 147, in join\nassert self._parent_pid == os.getpid(), 'can only join a child process'\ncan only join a child processAssertionErrorassert self._parent_pid == os.getpid(), 'can only join a child process'\n\n:AssertionErrorcan only join a child process:\ncan only join a child process\n"
    },
    {
     "output_type": "error",
     "ename": "KeyboardInterrupt",
     "evalue": "",
     "traceback": [
      "\u001b[0;31m---------------------------------------------------------------------------\u001b[0m",
      "\u001b[0;31mKeyboardInterrupt\u001b[0m                         Traceback (most recent call last)",
      "\u001b[0;32m<ipython-input-5-03409b2e9aef>\u001b[0m in \u001b[0;36m<module>\u001b[0;34m\u001b[0m\n\u001b[1;32m     20\u001b[0m         \u001b[0moptimizer\u001b[0m\u001b[0;34m.\u001b[0m\u001b[0mzero_grad\u001b[0m\u001b[0;34m(\u001b[0m\u001b[0;34m)\u001b[0m\u001b[0;34m\u001b[0m\u001b[0;34m\u001b[0m\u001b[0m\n\u001b[1;32m     21\u001b[0m         \u001b[0mloss\u001b[0m\u001b[0;34m.\u001b[0m\u001b[0mbackward\u001b[0m\u001b[0;34m(\u001b[0m\u001b[0;34m)\u001b[0m\u001b[0;34m\u001b[0m\u001b[0;34m\u001b[0m\u001b[0m\n\u001b[0;32m---> 22\u001b[0;31m         \u001b[0moptimizer\u001b[0m\u001b[0;34m.\u001b[0m\u001b[0mstep\u001b[0m\u001b[0;34m(\u001b[0m\u001b[0;34m)\u001b[0m\u001b[0;34m\u001b[0m\u001b[0;34m\u001b[0m\u001b[0m\n\u001b[0m\u001b[1;32m     23\u001b[0m         \u001b[0mrunning_loss\u001b[0m \u001b[0;34m+=\u001b[0m \u001b[0mfloat\u001b[0m\u001b[0;34m(\u001b[0m\u001b[0mloss\u001b[0m\u001b[0;34m.\u001b[0m\u001b[0mitem\u001b[0m\u001b[0;34m(\u001b[0m\u001b[0;34m)\u001b[0m\u001b[0;34m)\u001b[0m\u001b[0;34m\u001b[0m\u001b[0;34m\u001b[0m\u001b[0m\n\u001b[1;32m     24\u001b[0m \u001b[0;34m\u001b[0m\u001b[0m\n",
      "\u001b[0;32m~/.local/lib/python3.8/site-packages/torch/autograd/grad_mode.py\u001b[0m in \u001b[0;36mdecorate_context\u001b[0;34m(*args, **kwargs)\u001b[0m\n\u001b[1;32m     13\u001b[0m         \u001b[0;32mdef\u001b[0m \u001b[0mdecorate_context\u001b[0m\u001b[0;34m(\u001b[0m\u001b[0;34m*\u001b[0m\u001b[0margs\u001b[0m\u001b[0;34m,\u001b[0m \u001b[0;34m**\u001b[0m\u001b[0mkwargs\u001b[0m\u001b[0;34m)\u001b[0m\u001b[0;34m:\u001b[0m\u001b[0;34m\u001b[0m\u001b[0;34m\u001b[0m\u001b[0m\n\u001b[1;32m     14\u001b[0m             \u001b[0;32mwith\u001b[0m \u001b[0mself\u001b[0m\u001b[0;34m:\u001b[0m\u001b[0;34m\u001b[0m\u001b[0;34m\u001b[0m\u001b[0m\n\u001b[0;32m---> 15\u001b[0;31m                 \u001b[0;32mreturn\u001b[0m \u001b[0mfunc\u001b[0m\u001b[0;34m(\u001b[0m\u001b[0;34m*\u001b[0m\u001b[0margs\u001b[0m\u001b[0;34m,\u001b[0m \u001b[0;34m**\u001b[0m\u001b[0mkwargs\u001b[0m\u001b[0;34m)\u001b[0m\u001b[0;34m\u001b[0m\u001b[0;34m\u001b[0m\u001b[0m\n\u001b[0m\u001b[1;32m     16\u001b[0m         \u001b[0;32mreturn\u001b[0m \u001b[0mdecorate_context\u001b[0m\u001b[0;34m\u001b[0m\u001b[0;34m\u001b[0m\u001b[0m\n\u001b[1;32m     17\u001b[0m \u001b[0;34m\u001b[0m\u001b[0m\n",
      "\u001b[0;32m~/.local/lib/python3.8/site-packages/torch/optim/adadelta.py\u001b[0m in \u001b[0;36mstep\u001b[0;34m(self, closure)\u001b[0m\n\u001b[1;32m     72\u001b[0m                     \u001b[0mgrad\u001b[0m \u001b[0;34m=\u001b[0m \u001b[0mgrad\u001b[0m\u001b[0;34m.\u001b[0m\u001b[0madd\u001b[0m\u001b[0;34m(\u001b[0m\u001b[0mp\u001b[0m\u001b[0;34m,\u001b[0m \u001b[0malpha\u001b[0m\u001b[0;34m=\u001b[0m\u001b[0mgroup\u001b[0m\u001b[0;34m[\u001b[0m\u001b[0;34m'weight_decay'\u001b[0m\u001b[0;34m]\u001b[0m\u001b[0;34m)\u001b[0m\u001b[0;34m\u001b[0m\u001b[0;34m\u001b[0m\u001b[0m\n\u001b[1;32m     73\u001b[0m \u001b[0;34m\u001b[0m\u001b[0m\n\u001b[0;32m---> 74\u001b[0;31m                 \u001b[0msquare_avg\u001b[0m\u001b[0;34m.\u001b[0m\u001b[0mmul_\u001b[0m\u001b[0;34m(\u001b[0m\u001b[0mrho\u001b[0m\u001b[0;34m)\u001b[0m\u001b[0;34m.\u001b[0m\u001b[0maddcmul_\u001b[0m\u001b[0;34m(\u001b[0m\u001b[0mgrad\u001b[0m\u001b[0;34m,\u001b[0m \u001b[0mgrad\u001b[0m\u001b[0;34m,\u001b[0m \u001b[0mvalue\u001b[0m\u001b[0;34m=\u001b[0m\u001b[0;36m1\u001b[0m \u001b[0;34m-\u001b[0m \u001b[0mrho\u001b[0m\u001b[0;34m)\u001b[0m\u001b[0;34m\u001b[0m\u001b[0;34m\u001b[0m\u001b[0m\n\u001b[0m\u001b[1;32m     75\u001b[0m                 \u001b[0mstd\u001b[0m \u001b[0;34m=\u001b[0m \u001b[0msquare_avg\u001b[0m\u001b[0;34m.\u001b[0m\u001b[0madd\u001b[0m\u001b[0;34m(\u001b[0m\u001b[0meps\u001b[0m\u001b[0;34m)\u001b[0m\u001b[0;34m.\u001b[0m\u001b[0msqrt_\u001b[0m\u001b[0;34m(\u001b[0m\u001b[0;34m)\u001b[0m\u001b[0;34m\u001b[0m\u001b[0;34m\u001b[0m\u001b[0m\n\u001b[1;32m     76\u001b[0m                 \u001b[0mdelta\u001b[0m \u001b[0;34m=\u001b[0m \u001b[0macc_delta\u001b[0m\u001b[0;34m.\u001b[0m\u001b[0madd\u001b[0m\u001b[0;34m(\u001b[0m\u001b[0meps\u001b[0m\u001b[0;34m)\u001b[0m\u001b[0;34m.\u001b[0m\u001b[0msqrt_\u001b[0m\u001b[0;34m(\u001b[0m\u001b[0;34m)\u001b[0m\u001b[0;34m.\u001b[0m\u001b[0mdiv_\u001b[0m\u001b[0;34m(\u001b[0m\u001b[0mstd\u001b[0m\u001b[0;34m)\u001b[0m\u001b[0;34m.\u001b[0m\u001b[0mmul_\u001b[0m\u001b[0;34m(\u001b[0m\u001b[0mgrad\u001b[0m\u001b[0;34m)\u001b[0m\u001b[0;34m\u001b[0m\u001b[0;34m\u001b[0m\u001b[0m\n",
      "\u001b[0;31mKeyboardInterrupt\u001b[0m: "
     ]
    }
   ],
   "source": [
    "\n",
    "start = time.time()\n",
    "\n",
    "for e in range(0, epochs):\n",
    "    print(e)\n",
    "    count = 0\n",
    "    running_loss = 0.0\n",
    "    for data in dataset_loader:\n",
    "        loss = None\n",
    "        img1 = torch.transpose(data['img1'], 3, 1).cuda().float()\n",
    "        img2 = torch.transpose(data['img2'], 3, 1).cuda().float()\n",
    "        # print(data['img1'].shape)\n",
    "        # output = m(data['img1'], data['img2'])\n",
    "        output = m(img1, img2)\n",
    "         # sanity check, may have to change for bugatti\n",
    "        # if output.data >= 300 or output.data <= -75:\n",
    "        #     print(\"weird error\", i, e)\n",
    "        #     # output.data = pre_sped.data\n",
    "        #     exit()\n",
    "        loss = loser(output, data[\"speed\"].cuda().float())\n",
    "        optimizer.zero_grad()\n",
    "        loss.backward()\n",
    "        optimizer.step()\n",
    "        running_loss += float(loss.item())\n",
    "\n",
    "        count += 1\n",
    "        if count%100 == 0:\n",
    "            d = time.time() - start\n",
    "            fps = (100 * BATCH_SIZE)/d\n",
    "            time_left = (((len(speed_dataset)/BATCH_SIZE) - count)/fps)/60\n",
    "            print(running_loss, \"epoch loss\\n\", \n",
    "            time_left, \"min left\\n\", \n",
    "            fps, \"frames per second\\n\",\n",
    "            100 * (count/(len(speed_dataset)//BATCH_SIZE)), \"%\\n\",\n",
    "            d/60, \"min since last check\")\n",
    "            print('==============================================================')\n",
    "            start = time.time()\n",
    "\n",
    "    print(\"=====================saving===================\")\n",
    "    torch.save(m, str(e) + \"_sai_net.pth\")"
   ]
  },
  {
   "cell_type": "code",
   "execution_count": null,
   "metadata": {},
   "outputs": [],
   "source": []
  }
 ]
}