{
 "metadata": {
  "language_info": {
   "codemirror_mode": {
    "name": "ipython",
    "version": 3
   },
   "file_extension": ".py",
   "mimetype": "text/x-python",
   "name": "python",
   "nbconvert_exporter": "python",
   "pygments_lexer": "ipython3",
   "version": "3.8.2-final"
  },
  "orig_nbformat": 2,
  "kernelspec": {
   "name": "Python 3.8.2 64-bit",
   "display_name": "Python 3.8.2 64-bit",
   "metadata": {
    "interpreter": {
     "hash": "31f2aee4e71d21fbe5cf8b01ff0e069b9275f58929596ceb00d14d90e3e16cd6"
    }
   }
   "name": "python_defaultSpec_1600885665592",
   "display_name": "Python 3.8.2 64-bit"
  }
 },
 "nbformat": 4,
 "nbformat_minor": 2,
 "cells": [
  {
   "cell_type": "code",
   "execution_count": 1,
   "execution_count": 4,
   "metadata": {
    "tags": []
   },
   "outputs": [
    {
     "output_type": "stream",
     "name": "stdout",
     "text": "<class 'pandas.core.frame.DataFrame'>\ncpu\nresnet152\nready to train\n"
     "text": "569418  bits of data\ncuda\nresnet152\nready to train\n"
    }
   ],
   "source": [
    "# Prepare the data\n",
    "import numpy as np\n",
    "import cv2\n",
    "import torch\n",
    "import random\n",
    "import time\n",
    "import torch.optim as optim\n",
    "import torch.nn as nn\n",
    "import resnet_builds\n",
    "from torchvision import transforms, datasets\n",
    "import speedDataset\n",
    "\n",
    "BATCH_SIZE = 30\n",
    "\n",
    "\n",
    "data_transform = transforms.Compose([\n",
    "        transforms.ToTensor(),\n",
    "        transforms.Normalize(mean=[0.485, 0.456, 0.406],\n",
    "                             std=[0.229, 0.224, 0.225])\n",
    "    ])\n",
    "speed_dataset = speedDataset.ImageToSpeedDataset(csv='data/im_im_sp.csv',\n",
    "                                    root_dir='data/images/')\n",
    "dataset_loader = torch.utils.data.DataLoader(speed_dataset,\n",
    "                                             batch_size=BATCH_SIZE, shuffle=True,\n",
    "                                             num_workers=6)\n",
    "\n",
    "loser = nn.MSELoss()\n",
    "use_cuda = torch.cuda.is_available()\n",
    "device = torch.device(\"cuda\" if use_cuda else \"cpu\")\n",
    "print(device)\n",
    "\n",
    "m = resnet_builds.resnet152()\n",
    "if torch.cuda.device_count() > 1:\n",
    "  print(\"Let's use\", torch.cuda.device_count(), \"GPUs!\")\n",
    "  # dim = 0 [30, xxx] -> [10, ...], [10, ...], [10, ...] on 3 GPUs\n",
    "  m = nn.DataParallel(m)\n",
    "m.to(device)\n",
    "m.train()\n",
    "\n",
    "optimizer = optim.Adadelta(m.parameters(), lr=1.0)\n",
    "\n",
    "epochs = 200\n",
    "print(\"ready to train\")"
   ]
  },
  {
   "cell_type": "code",
<<<<<<< HEAD
   "execution_count": 2,
=======
<<<<<<< HEAD
   "execution_count": 5,
=======
   "execution_count": 4,
>>>>>>> 12b49839d92ea16443ae68fbdf5838f0f65d3a27
>>>>>>> 9d1ae87859420c42405560275ac4b0c59e80f650
   "metadata": {
    "tags": []
   },
   "outputs": [
    {
     "output_type": "stream",
     "name": "stdout",
<<<<<<< HEAD
     "text": "0\n"
=======
<<<<<<< HEAD
     "text": "0\nException ignored in:<function _MultiProcessingDataLoaderIter.__del__ at 0x7ff1f9e48430>\nTraceback (most recent call last):\nException ignored in:<function _MultiProcessingDataLoaderIter.__del__ at 0x7ff1f9e48430>\n  File \"/home/ubuntu/.local/lib/python3.8/site-packages/torch/utils/data/dataloader.py\", line 1101, in __del__\nException ignored in:self._shutdown_workers()Traceback (most recent call last):\n<function _MultiProcessingDataLoaderIter.__del__ at 0x7ff1f9e48430>Exception ignored in:\n\nException ignored in:Exception ignored in:<function _MultiProcessingDataLoaderIter.__del__ at 0x7ff1f9e48430>  File \"/home/ubuntu/.local/lib/python3.8/site-packages/torch/utils/data/dataloader.py\", line 1101, in __del__\n<function _MultiProcessingDataLoaderIter.__del__ at 0x7ff1f9e48430><function _MultiProcessingDataLoaderIter.__del__ at 0x7ff1f9e48430>\nTraceback (most recent call last):\n  File \"/home/ubuntu/.local/lib/python3.8/site-packages/torch/utils/data/dataloader.py\", line 1075, in _shutdown_workers\n  File \"/home/ubuntu/.local/lib/python3.8/site-packages/torch/utils/data/dataloader.py\", line 1101, in __del__\n\n\nw.join(timeout=_utils.MP_STATUS_CHECK_INTERVAL)Traceback (most recent call last):\n\n  File \"/home/ubuntu/.local/lib/python3.8/site-packages/torch/utils/data/dataloader.py\", line 1101, in __del__\nTraceback (most recent call last):\n  File \"/usr/lib/python3.8/multiprocessing/process.py\", line 147, in join\nself._shutdown_workers()  File \"/home/ubuntu/.local/lib/python3.8/site-packages/torch/utils/data/dataloader.py\", line 1101, in __del__\nself._shutdown_workers()Traceback (most recent call last):\n  File \"/home/ubuntu/.local/lib/python3.8/site-packages/torch/utils/data/dataloader.py\", line 1101, in __del__\nself._shutdown_workers()assert self._parent_pid == os.getpid(), 'can only join a child process'\n\n\n\nAssertionError  File \"/home/ubuntu/.local/lib/python3.8/site-packages/torch/utils/data/dataloader.py\", line 1075, in _shutdown_workers\nself._shutdown_workers()  File \"/home/ubuntu/.local/lib/python3.8/site-packages/torch/utils/data/dataloader.py\", line 1075, in _shutdown_workers\n  File \"/home/ubuntu/.local/lib/python3.8/site-packages/torch/utils/data/dataloader.py\", line 1075, in _shutdown_workers\n:can only join a child processw.join(timeout=_utils.MP_STATUS_CHECK_INTERVAL)\nself._shutdown_workers()w.join(timeout=_utils.MP_STATUS_CHECK_INTERVAL)\n  File \"/usr/lib/python3.8/multiprocessing/process.py\", line 147, in join\nw.join(timeout=_utils.MP_STATUS_CHECK_INTERVAL)  File \"/home/ubuntu/.local/lib/python3.8/site-packages/torch/utils/data/dataloader.py\", line 1075, in _shutdown_workers\n\n\n  File \"/usr/lib/python3.8/multiprocessing/process.py\", line 147, in join\n\n  File \"/home/ubuntu/.local/lib/python3.8/site-packages/torch/utils/data/dataloader.py\", line 1075, in _shutdown_workers\n\n  File \"/usr/lib/python3.8/multiprocessing/process.py\", line 147, in join\nassert self._parent_pid == os.getpid(), 'can only join a child process'w.join(timeout=_utils.MP_STATUS_CHECK_INTERVAL)\n\n  File \"/usr/lib/python3.8/multiprocessing/process.py\", line 147, in join\nassert self._parent_pid == os.getpid(), 'can only join a child process'\nAssertionErrorAssertionErrorassert self._parent_pid == os.getpid(), 'can only join a child process':\ncan only join a child process:AssertionError\ncan only join a child process:w.join(timeout=_utils.MP_STATUS_CHECK_INTERVAL)\n\n  File \"/usr/lib/python3.8/multiprocessing/process.py\", line 147, in join\nassert self._parent_pid == os.getpid(), 'can only join a child process'\ncan only join a child processAssertionErrorassert self._parent_pid == os.getpid(), 'can only join a child process'\n\n:AssertionErrorcan only join a child process:\ncan only join a child process\n"
=======
     "text": "0\n28392567.22136426 epoch loss\n 90.50506770099997 min left\n 14.521654606958677 frames per second\n 12.522383760972739 %\n==============================================================\n28467489.87297988 epoch loss\n 89.5085391617 min left\n 14.497127076585187 frames per second\n 25.044767521945477 %\n==============================================================\n28539148.934536934 epoch loss\n 85.38000340932608 min left\n 15.00292748711792 frames per second\n 37.56715128291822 %\n==============================================================\n28609679.854976654 epoch loss\n 84.45139139270053 min left\n 14.970544741582675 frames per second\n 50.089535043890955 %\n==============================================================\n28680095.99298191 epoch loss\n 83.224516629831 min left\n 14.990975222071413 frames per second\n 62.61191880486369 %\n==============================================================\n28749313.515262604 epoch loss\n 82.14902230591575 min left\n 14.98435362281063 frames per second\n 75.13430256583644 %\n==============================================================\n28820475.282293797 epoch loss\n 80.9789560394009 min left\n 14.995048006577349 frames per second\n 87.65668632680918 %\n==============================================================\n28890386.62260914 epoch loss\n 79.88835914651222 min left\n 14.991128613247433 frames per second\n 100.17907008778191 %\n==============================================================\n28960554.51831436 epoch loss\n 78.72049250233769 min left\n 15.00181163075079 frames per second\n 112.70145384875464 %\n==============================================================\n29030198.5103755 epoch loss\n 77.67862070574694 min left\n 14.988465587510046 frames per second\n 125.22383760972738 %\n==============================================================\n29101079.250821114 epoch loss\n 76.56478721776209 min left\n 14.988831137252006 frames per second\n 137.74622137070014 %\n==============================================================\n29171815.191259384 epoch loss\n 75.43473576328952 min left\n 14.992430059659323 frames per second\n 150.26860513167287 %\n==============================================================\n29250907.05595827 epoch loss\n 74.36859428721667 min left\n 14.983251250250797 frames per second\n 162.7909888926456 %\n==============================================================\n29320972.33107996 epoch loss\n 73.79478289669156 min left\n 14.873906034838082 frames per second\n 175.31337265361836 %\n==============================================================\n29390758.333948612 epoch loss\n 73.26401817505361 min left\n 14.754173015971208 frames per second\n 187.8357564145911 %\n==============================================================\n29460571.517198086 epoch loss\n 72.60100452612639 min left\n 14.659347212617941 frames per second\n 200.35814017556382 %\n==============================================================\n29529487.069349766 epoch loss\n 70.19178303220603 min left\n 14.925061330697208 frames per second\n 212.88052393653655 %\n==============================================================\n29597599.01205015 epoch loss\n 68.81797117808462 min left\n 14.980825245954222 frames per second\n 225.40290769750928 %\n==============================================================\n29667334.453370094 epoch loss\n 67.71876687249342 min left\n 14.97787659428458 frames per second\n 237.92529145848204 %\n==============================================================\n29736361.215654373 epoch loss\n 66.59579489373829 min left\n 14.98017507349354 frames per second\n 250.44767521945477 %\n==============================================================\n29805896.07586336 epoch loss\n 65.47079092593194 min left\n 14.983017405575001 frames per second\n 262.9700589804275 %\n==============================================================\n29874333.57724142 epoch loss\n 64.34828579390513 min left\n 14.985377177283986 frames per second\n 275.4924427414003 %\n==============================================================\n29942927.9431386 epoch loss\n 63.248829145182505 min left\n 14.982359032947318 frames per second\n 288.01482650237296 %\n==============================================================\n30011828.596342564 epoch loss\n 62.1695671016872 min left\n 14.974368383123828 frames per second\n 300.53721026334574 %\n==============================================================\n30081991.45528984 epoch loss\n 61.01423977399203 min left\n 14.984753341515145 frames per second\n 313.05959402431847 %\n==============================================================\n30150258.16242242 epoch loss\n 59.886084602987104 min left\n 14.988735239870628 frames per second\n 325.5819777852912 %\n==============================================================\n30219807.730546713 epoch loss\n 59.52925054009557 min left\n 14.79860727301852 frames per second\n 338.10436154626393 %\n==============================================================\n30287577.34937501 epoch loss\n 59.98525324148204 min left\n 14.408263475257767 frames per second\n 350.6267453072367 %\n==============================================================\n30354287.79208398 epoch loss\n 57.733736680382485 min left\n 14.681479415737883 frames per second\n 363.1491290682094 %\n==============================================================\n30420356.510726213 epoch loss\n 56.63449715470076 min left\n 14.672152870541197 frames per second\n 375.6715128291822 %\n==============================================================\n30487719.175809145 epoch loss\n 55.36853194203509 min left\n 14.706608695816616 frames per second\n 388.1938965901549 %\n==============================================================\n30553097.714905977 epoch loss\n 54.39954178674022 min left\n 14.662194578651471 frames per second\n 400.71628035112764 %\n==============================================================\n30619067.449566126 epoch loss\n 53.08064136883815 min left\n 14.712520042353319 frames per second\n 413.23866411210037 %\n==============================================================\n30686090.601177454 epoch loss\n 52.49686579811969 min left\n 14.558646915654686 frames per second\n 425.7610478730731 %\n==============================================================\n30751870.74298215 epoch loss\n 53.12988518227272 min left\n 14.071490350521515 frames per second\n 438.2834316340459 %\n==============================================================\n30817130.851519108 epoch loss\n 53.09821804348826 min left\n 13.765998689472793 frames per second\n 450.80581539501856 %\n==============================================================\n30882499.18051052 epoch loss\n 51.7783587064849 min left\n 13.795016898515055 frames per second\n 463.32819915599134 %\n==============================================================\n30946816.734776974 epoch loss\n 51.82305901097324 min left\n 13.461510763364052 frames per second\n 475.8505829169641 %\n==============================================================\n31009233.287800312 epoch loss\n 50.33326864514351 min left\n 13.528825334209696 frames per second\n 488.37296667793686 %\n==============================================================\n31072296.403197765 epoch loss\n 49.11658294115066 min left\n 13.524624343864648 frames per second\n 500.89535043890953 %\n==============================================================\n31136712.909005642 epoch loss\n 48.14766348273091 min left\n 13.450635395816182 frames per second\n 513.4177341998823 %\n==============================================================\n31199045.748802662 epoch loss\n 48.369294262246285 min left\n 13.044432622463871 frames per second\n 525.940117960855 %\n==============================================================\n31262043.782147884 epoch loss\n 44.8642567995078 min left\n 13.692043001592138 frames per second\n 538.4625017218277 %\n==============================================================\n31325289.78859842 epoch loss\n 40.397198780791626 min left\n 14.793517488911288 frames per second\n 550.9848854828006 %\n==============================================================\n"
>>>>>>> 12b49839d92ea16443ae68fbdf5838f0f65d3a27
>>>>>>> 9d1ae87859420c42405560275ac4b0c59e80f650
    },
    {
     "output_type": "error",
     "ename": "RuntimeError",
     "evalue": "cuda runtime error (100) : no CUDA-capable device is detected at /pytorch/aten/src/THC/THCGeneral.cpp:47",
     "traceback": [
      "\u001b[0;31m---------------------------------------------------------------------------\u001b[0m",
<<<<<<< HEAD
      "\u001b[0;31mRuntimeError\u001b[0m                              Traceback (most recent call last)",
      "\u001b[0;32m<ipython-input-2-6ec8c3c28261>\u001b[0m in \u001b[0;36m<module>\u001b[0;34m\u001b[0m\n\u001b[1;32m      7\u001b[0m     \u001b[0;32mfor\u001b[0m \u001b[0mdata\u001b[0m \u001b[0;32min\u001b[0m \u001b[0mdataset_loader\u001b[0m\u001b[0;34m:\u001b[0m\u001b[0;34m\u001b[0m\u001b[0;34m\u001b[0m\u001b[0m\n\u001b[1;32m      8\u001b[0m         \u001b[0mloss\u001b[0m \u001b[0;34m=\u001b[0m \u001b[0;32mNone\u001b[0m\u001b[0;34m\u001b[0m\u001b[0;34m\u001b[0m\u001b[0m\n\u001b[0;32m----> 9\u001b[0;31m         \u001b[0mimg1\u001b[0m \u001b[0;34m=\u001b[0m \u001b[0mtorch\u001b[0m\u001b[0;34m.\u001b[0m\u001b[0mtranspose\u001b[0m\u001b[0;34m(\u001b[0m\u001b[0mdata\u001b[0m\u001b[0;34m[\u001b[0m\u001b[0;34m'img1'\u001b[0m\u001b[0;34m]\u001b[0m\u001b[0;34m,\u001b[0m \u001b[0;36m3\u001b[0m\u001b[0;34m,\u001b[0m \u001b[0;36m1\u001b[0m\u001b[0;34m)\u001b[0m\u001b[0;34m.\u001b[0m\u001b[0mcuda\u001b[0m\u001b[0;34m(\u001b[0m\u001b[0;34m)\u001b[0m\u001b[0;34m.\u001b[0m\u001b[0mfloat\u001b[0m\u001b[0;34m(\u001b[0m\u001b[0;34m)\u001b[0m\u001b[0;34m\u001b[0m\u001b[0;34m\u001b[0m\u001b[0m\n\u001b[0m\u001b[1;32m     10\u001b[0m         \u001b[0mimg2\u001b[0m \u001b[0;34m=\u001b[0m \u001b[0mtorch\u001b[0m\u001b[0;34m.\u001b[0m\u001b[0mtranspose\u001b[0m\u001b[0;34m(\u001b[0m\u001b[0mdata\u001b[0m\u001b[0;34m[\u001b[0m\u001b[0;34m'img2'\u001b[0m\u001b[0;34m]\u001b[0m\u001b[0;34m,\u001b[0m \u001b[0;36m3\u001b[0m\u001b[0;34m,\u001b[0m \u001b[0;36m1\u001b[0m\u001b[0;34m)\u001b[0m\u001b[0;34m.\u001b[0m\u001b[0mcuda\u001b[0m\u001b[0;34m(\u001b[0m\u001b[0;34m)\u001b[0m\u001b[0;34m.\u001b[0m\u001b[0mfloat\u001b[0m\u001b[0;34m(\u001b[0m\u001b[0;34m)\u001b[0m\u001b[0;34m\u001b[0m\u001b[0;34m\u001b[0m\u001b[0m\n\u001b[1;32m     11\u001b[0m         \u001b[0;31m# print(data['img1'].shape)\u001b[0m\u001b[0;34m\u001b[0m\u001b[0;34m\u001b[0m\u001b[0;34m\u001b[0m\u001b[0m\n",
      "\u001b[0;32m/usr/local/lib/python3.8/dist-packages/torch/cuda/__init__.py\u001b[0m in \u001b[0;36m_lazy_init\u001b[0;34m()\u001b[0m\n\u001b[1;32m    188\u001b[0m             raise AssertionError(\n\u001b[1;32m    189\u001b[0m                 \"libcudart functions unavailable. It looks like you have a broken build?\")\n\u001b[0;32m--> 190\u001b[0;31m         \u001b[0mtorch\u001b[0m\u001b[0;34m.\u001b[0m\u001b[0m_C\u001b[0m\u001b[0;34m.\u001b[0m\u001b[0m_cuda_init\u001b[0m\u001b[0;34m(\u001b[0m\u001b[0;34m)\u001b[0m\u001b[0;34m\u001b[0m\u001b[0;34m\u001b[0m\u001b[0m\n\u001b[0m\u001b[1;32m    191\u001b[0m         \u001b[0;31m# Some of the queued calls may reentrantly call _lazy_init();\u001b[0m\u001b[0;34m\u001b[0m\u001b[0;34m\u001b[0m\u001b[0;34m\u001b[0m\u001b[0m\n\u001b[1;32m    192\u001b[0m         \u001b[0;31m# we need to just return without initializing in that case.\u001b[0m\u001b[0;34m\u001b[0m\u001b[0;34m\u001b[0m\u001b[0;34m\u001b[0m\u001b[0m\n",
      "\u001b[0;31mRuntimeError\u001b[0m: cuda runtime error (100) : no CUDA-capable device is detected at /pytorch/aten/src/THC/THCGeneral.cpp:47"
=======
      "\u001b[0;31mKeyboardInterrupt\u001b[0m                         Traceback (most recent call last)",
<<<<<<< HEAD
      "\u001b[0;32m<ipython-input-5-03409b2e9aef>\u001b[0m in \u001b[0;36m<module>\u001b[0;34m\u001b[0m\n\u001b[1;32m     20\u001b[0m         \u001b[0moptimizer\u001b[0m\u001b[0;34m.\u001b[0m\u001b[0mzero_grad\u001b[0m\u001b[0;34m(\u001b[0m\u001b[0;34m)\u001b[0m\u001b[0;34m\u001b[0m\u001b[0;34m\u001b[0m\u001b[0m\n\u001b[1;32m     21\u001b[0m         \u001b[0mloss\u001b[0m\u001b[0;34m.\u001b[0m\u001b[0mbackward\u001b[0m\u001b[0;34m(\u001b[0m\u001b[0;34m)\u001b[0m\u001b[0;34m\u001b[0m\u001b[0;34m\u001b[0m\u001b[0m\n\u001b[0;32m---> 22\u001b[0;31m         \u001b[0moptimizer\u001b[0m\u001b[0;34m.\u001b[0m\u001b[0mstep\u001b[0m\u001b[0;34m(\u001b[0m\u001b[0;34m)\u001b[0m\u001b[0;34m\u001b[0m\u001b[0;34m\u001b[0m\u001b[0m\n\u001b[0m\u001b[1;32m     23\u001b[0m         \u001b[0mrunning_loss\u001b[0m \u001b[0;34m+=\u001b[0m \u001b[0mfloat\u001b[0m\u001b[0;34m(\u001b[0m\u001b[0mloss\u001b[0m\u001b[0;34m.\u001b[0m\u001b[0mitem\u001b[0m\u001b[0;34m(\u001b[0m\u001b[0;34m)\u001b[0m\u001b[0;34m)\u001b[0m\u001b[0;34m\u001b[0m\u001b[0;34m\u001b[0m\u001b[0m\n\u001b[1;32m     24\u001b[0m \u001b[0;34m\u001b[0m\u001b[0m\n",
=======
      "\u001b[0;32m<ipython-input-4-ff1ac57e9ea4>\u001b[0m in \u001b[0;36m<module>\u001b[0;34m\u001b[0m\n\u001b[1;32m     20\u001b[0m         \u001b[0moptimizer\u001b[0m\u001b[0;34m.\u001b[0m\u001b[0mzero_grad\u001b[0m\u001b[0;34m(\u001b[0m\u001b[0;34m)\u001b[0m\u001b[0;34m\u001b[0m\u001b[0;34m\u001b[0m\u001b[0m\n\u001b[1;32m     21\u001b[0m         \u001b[0mloss\u001b[0m\u001b[0;34m.\u001b[0m\u001b[0mbackward\u001b[0m\u001b[0;34m(\u001b[0m\u001b[0;34m)\u001b[0m\u001b[0;34m\u001b[0m\u001b[0;34m\u001b[0m\u001b[0m\n\u001b[0;32m---> 22\u001b[0;31m         \u001b[0moptimizer\u001b[0m\u001b[0;34m.\u001b[0m\u001b[0mstep\u001b[0m\u001b[0;34m(\u001b[0m\u001b[0;34m)\u001b[0m\u001b[0;34m\u001b[0m\u001b[0;34m\u001b[0m\u001b[0m\n\u001b[0m\u001b[1;32m     23\u001b[0m         \u001b[0mrunning_loss\u001b[0m \u001b[0;34m+=\u001b[0m \u001b[0mfloat\u001b[0m\u001b[0;34m(\u001b[0m\u001b[0mloss\u001b[0m\u001b[0;34m.\u001b[0m\u001b[0mitem\u001b[0m\u001b[0;34m(\u001b[0m\u001b[0;34m)\u001b[0m\u001b[0;34m)\u001b[0m\u001b[0;34m\u001b[0m\u001b[0;34m\u001b[0m\u001b[0m\n\u001b[1;32m     24\u001b[0m \u001b[0;34m\u001b[0m\u001b[0m\n",
>>>>>>> 12b49839d92ea16443ae68fbdf5838f0f65d3a27
      "\u001b[0;32m~/.local/lib/python3.8/site-packages/torch/autograd/grad_mode.py\u001b[0m in \u001b[0;36mdecorate_context\u001b[0;34m(*args, **kwargs)\u001b[0m\n\u001b[1;32m     13\u001b[0m         \u001b[0;32mdef\u001b[0m \u001b[0mdecorate_context\u001b[0m\u001b[0;34m(\u001b[0m\u001b[0;34m*\u001b[0m\u001b[0margs\u001b[0m\u001b[0;34m,\u001b[0m \u001b[0;34m**\u001b[0m\u001b[0mkwargs\u001b[0m\u001b[0;34m)\u001b[0m\u001b[0;34m:\u001b[0m\u001b[0;34m\u001b[0m\u001b[0;34m\u001b[0m\u001b[0m\n\u001b[1;32m     14\u001b[0m             \u001b[0;32mwith\u001b[0m \u001b[0mself\u001b[0m\u001b[0;34m:\u001b[0m\u001b[0;34m\u001b[0m\u001b[0;34m\u001b[0m\u001b[0m\n\u001b[0;32m---> 15\u001b[0;31m                 \u001b[0;32mreturn\u001b[0m \u001b[0mfunc\u001b[0m\u001b[0;34m(\u001b[0m\u001b[0;34m*\u001b[0m\u001b[0margs\u001b[0m\u001b[0;34m,\u001b[0m \u001b[0;34m**\u001b[0m\u001b[0mkwargs\u001b[0m\u001b[0;34m)\u001b[0m\u001b[0;34m\u001b[0m\u001b[0;34m\u001b[0m\u001b[0m\n\u001b[0m\u001b[1;32m     16\u001b[0m         \u001b[0;32mreturn\u001b[0m \u001b[0mdecorate_context\u001b[0m\u001b[0;34m\u001b[0m\u001b[0;34m\u001b[0m\u001b[0m\n\u001b[1;32m     17\u001b[0m \u001b[0;34m\u001b[0m\u001b[0m\n",
      "\u001b[0;32m~/.local/lib/python3.8/site-packages/torch/optim/adadelta.py\u001b[0m in \u001b[0;36mstep\u001b[0;34m(self, closure)\u001b[0m\n\u001b[1;32m     72\u001b[0m                     \u001b[0mgrad\u001b[0m \u001b[0;34m=\u001b[0m \u001b[0mgrad\u001b[0m\u001b[0;34m.\u001b[0m\u001b[0madd\u001b[0m\u001b[0;34m(\u001b[0m\u001b[0mp\u001b[0m\u001b[0;34m,\u001b[0m \u001b[0malpha\u001b[0m\u001b[0;34m=\u001b[0m\u001b[0mgroup\u001b[0m\u001b[0;34m[\u001b[0m\u001b[0;34m'weight_decay'\u001b[0m\u001b[0;34m]\u001b[0m\u001b[0;34m)\u001b[0m\u001b[0;34m\u001b[0m\u001b[0;34m\u001b[0m\u001b[0m\n\u001b[1;32m     73\u001b[0m \u001b[0;34m\u001b[0m\u001b[0m\n\u001b[0;32m---> 74\u001b[0;31m                 \u001b[0msquare_avg\u001b[0m\u001b[0;34m.\u001b[0m\u001b[0mmul_\u001b[0m\u001b[0;34m(\u001b[0m\u001b[0mrho\u001b[0m\u001b[0;34m)\u001b[0m\u001b[0;34m.\u001b[0m\u001b[0maddcmul_\u001b[0m\u001b[0;34m(\u001b[0m\u001b[0mgrad\u001b[0m\u001b[0;34m,\u001b[0m \u001b[0mgrad\u001b[0m\u001b[0;34m,\u001b[0m \u001b[0mvalue\u001b[0m\u001b[0;34m=\u001b[0m\u001b[0;36m1\u001b[0m \u001b[0;34m-\u001b[0m \u001b[0mrho\u001b[0m\u001b[0;34m)\u001b[0m\u001b[0;34m\u001b[0m\u001b[0;34m\u001b[0m\u001b[0m\n\u001b[0m\u001b[1;32m     75\u001b[0m                 \u001b[0mstd\u001b[0m \u001b[0;34m=\u001b[0m \u001b[0msquare_avg\u001b[0m\u001b[0;34m.\u001b[0m\u001b[0madd\u001b[0m\u001b[0;34m(\u001b[0m\u001b[0meps\u001b[0m\u001b[0;34m)\u001b[0m\u001b[0;34m.\u001b[0m\u001b[0msqrt_\u001b[0m\u001b[0;34m(\u001b[0m\u001b[0;34m)\u001b[0m\u001b[0;34m\u001b[0m\u001b[0;34m\u001b[0m\u001b[0m\n\u001b[1;32m     76\u001b[0m                 \u001b[0mdelta\u001b[0m \u001b[0;34m=\u001b[0m \u001b[0macc_delta\u001b[0m\u001b[0;34m.\u001b[0m\u001b[0madd\u001b[0m\u001b[0;34m(\u001b[0m\u001b[0meps\u001b[0m\u001b[0;34m)\u001b[0m\u001b[0;34m.\u001b[0m\u001b[0msqrt_\u001b[0m\u001b[0;34m(\u001b[0m\u001b[0;34m)\u001b[0m\u001b[0;34m.\u001b[0m\u001b[0mdiv_\u001b[0m\u001b[0;34m(\u001b[0m\u001b[0mstd\u001b[0m\u001b[0;34m)\u001b[0m\u001b[0;34m.\u001b[0m\u001b[0mmul_\u001b[0m\u001b[0;34m(\u001b[0m\u001b[0mgrad\u001b[0m\u001b[0;34m)\u001b[0m\u001b[0;34m\u001b[0m\u001b[0;34m\u001b[0m\u001b[0m\n",
      "\u001b[0;31mKeyboardInterrupt\u001b[0m: "
>>>>>>> 9d1ae87859420c42405560275ac4b0c59e80f650
     ]
    }
   ],
   "source": [
    "\n",
    "start = time.time()\n",
    "\n",
    "for e in range(0, epochs):\n",
    "    print(e)\n",
    "    count = 0\n",
    "    running_loss = 0.0\n",
    "    for data in dataset_loader:\n",
    "        loss = None\n",
    "        img1 = torch.transpose(data['img1'], 3, 1).cuda().float()\n",
    "        img2 = torch.transpose(data['img2'], 3, 1).cuda().float()\n",
    "        # print(data['img1'].shape)\n",
    "        # output = m(data['img1'], data['img2'])\n",
    "        output = m(img1, img2)\n",
    "         # sanity check, may have to change for bugatti\n",
    "        # if output.data >= 300 or output.data <= -75:\n",
    "        #     print(\"weird error\", i, e)\n",
    "        #     # output.data = pre_sped.data\n",
    "        #     exit()\n",
    "        loss = loser(output, data[\"speed\"].cuda().float())\n",
    "        optimizer.zero_grad()\n",
    "        loss.backward()\n",
    "        optimizer.step()\n",
    "        running_loss += float(loss.item())\n",
    "\n",
    "        count += 1\n",
    "        if count%100 == 0:\n",
    "            d = time.time() - start\n",
    "            fps = (100 * BATCH_SIZE)/d\n",
    "            time_left = (((len(speed_dataset)/BATCH_SIZE) - count)/fps)/60\n",
    "            print(running_loss, \"epoch loss\\n\", \n",
    "            time_left, \"min left\\n\", \n",
    "            fps, \"frames per second\\n\",\n",
    "            100 * (count/(len(speed_dataset)//BATCH_SIZE)), \"%\\n\",\n",
    "            d/60, \"min since last check\")\n",
    "            print('==============================================================')\n",
    "            start = time.time()\n",
    "\n",
    "    print(\"=====================saving===================\")\n",
    "    torch.save(m, str(e) + \"_sai_net.pth\")"
   ]
  },
  {
   "cell_type": "code",
   "execution_count": null,
   "metadata": {},
   "outputs": [],
   "source": []
  }
 ]
}