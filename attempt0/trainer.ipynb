{
 "cells": [
  {
   "cell_type": "code",
   "execution_count": 1,
   "metadata": {
    "tags": []
   },
   "outputs": [
    {
     "output_type": "stream",
     "name": "stdout",
     "text": [
      "569418  bits of data\n",
      "cuda\n",
      "resnet152\n",
      "Let's use 2 GPUs!\n",
      "ready to train\n"
     ]
    }
   ],
   "source": [
    "# Prepare the data\n",
    "import numpy as np\n",
    "import cv2\n",
    "import torch\n",
    "import random\n",
    "import time\n",
    "import torch.optim as optim\n",
    "import torch.nn as nn\n",
    "import resnet_builds\n",
    "from torchvision import transforms, datasets\n",
    "import speedDataset\n",
    "import os\n",
    "\n",
    "BATCH_SIZE = 100\n",
    "\n",
    "\n",
    "data_transform = transforms.Compose([\n",
    "        transforms.ToTensor(),\n",
    "        transforms.Normalize(mean=[0.485, 0.456, 0.406],\n",
    "                             std=[0.229, 0.224, 0.225])\n",
    "    ])\n",
    "speed_dataset = speedDataset.ImageToSpeedDataset(csv='data/im_im_sp.csv',\n",
    "                                    root_dir='data/images/')\n",
    "dataset_loader = torch.utils.data.DataLoader(speed_dataset,\n",
    "                                             batch_size=BATCH_SIZE, shuffle=True,\n",
    "                                             num_workers=10)\n",
    "\n",
    "loser = nn.MSELoss()\n",
    "use_cuda = torch.cuda.is_available()\n",
    "device = torch.device(\"cuda\" if use_cuda else \"cpu\")\n",
    "print(device)\n",
    "\n",
    "m = resnet_builds.resnet152()\n",
    "if torch.cuda.device_count() > 1:\n",
    "  print(\"Let's use\", torch.cuda.device_count(), \"GPUs!\")\n",
    "  # dim = 0 [30, xxx] -> [10, ...], [10, ...], [10, ...] on 3 GPUs\n",
    "  m = nn.DataParallel(m)\n",
    "m.to(device)\n",
    "m.train()\n",
    "\n",
    "optimizer = optim.Adadelta(m.parameters(), lr=1.2)\n",
    "\n",
    "epochs = 200\n",
    "print(\"ready to train\")"
   ]
  },
  {
   "cell_type": "code",
   "execution_count": 2,
   "metadata": {
    "tags": []
   },
   "outputs": [
    {
     "output_type": "error",
     "ename": "IndentationError",
     "evalue": "unexpected indent (<ipython-input-2-abf0abc73d10>, line 28)",
     "traceback": [
      "\u001b[0;36m  File \u001b[0;32m\"<ipython-input-2-abf0abc73d10>\"\u001b[0;36m, line \u001b[0;32m28\u001b[0m\n\u001b[0;31m    fps = (100 * BATCH_SIZE)/d\u001b[0m\n\u001b[0m    ^\u001b[0m\n\u001b[0;31mIndentationError\u001b[0m\u001b[0;31m:\u001b[0m unexpected indent\n"
     ]
    }
   ],
   "source": [
    "\n",
    "start = time.time()\n",
    "\n",
    "for e in range(0, epochs):\n",
    "    print(e)\n",
    "    count = 0\n",
    "    running_loss = 0.0\n",
    "    for data in dataset_loader:\n",
    "        loss = None\n",
    "        img1 = torch.transpose(data['img1'], 3, 1).cuda().float()\n",
    "        img2 = torch.transpose(data['img2'], 3, 1).cuda().float()\n",
    "        # print(data['img1'].shape)\n",
    "        # output = m(data['img1'], data['img2'])\n",
    "        output = m(img1, img2)\n",
    "         # sanity check, may have to change for bugatti\n",
    "        # if output.data >= 300 or output.data <= -75:\n",
    "        #     print(\"weird error\", i, e)\n",
    "        #     # output.data = pre_sped.data\n",
    "        #     exit()\n",
    "        loss = loser(output, data[\"speed\"].cuda().float())\n",
    "        optimizer.zero_grad()\n",
    "        loss.backward()\n",
    "        optimizer.step()\n",
    "        running_loss += float(loss.item())\n",
    "\n",
    "        count += 1\n",
    "        if count%100 == 0:\n",
    "            d = time.time() - start\n",
    "            fps = (100 * BATCH_SIZE)/d\n",
    "            time_left = ((len(speed_dataset) - (count * BATCH_SIZE))/fps)/60\n",
    "            print(running_loss, \"epoch loss\\n\",\n",
    "            d/60, \"min since last update\\n\",\n",
    "            time_left, \"min left\\n\", \n",
    "            fps, \"frames per second\\n\",\n",
    "            100 * (count/(len(speed_dataset)//BATCH_SIZE)), \"%\")\n",
    "            print('==============================================================')\n",
    "            start = time.time()\n",
    "\n",
    "    print(\"=====================saving===================\")\n",
    "    torch.save(m, str(e) + \"_sai_net.pth\")\n",
    "    try:\n",
    "        os.remove(\"full_data.pth\")\n",
    "\n",
    "        torch.save({\n",
    "                'epoch': e,\n",
    "                'model_state_dict': m.state_dict(),\n",
    "                'optimizer_state_dict': optimizer.state_dict()\n",
    "                }, \"full_data.pth\")\n",
    "    except:\n",
    "        print(\"error saving all of the information\")"
   ]
  },
  {
   "cell_type": "code",
   "execution_count": null,
   "metadata": {},
   "outputs": [],
   "source": []
  }
 ],
 "metadata": {
  "kernelspec": {
   "name": "Python 3.8.2 64-bit",
   "display_name": "Python 3.8.2 64-bit",
   "metadata": {
    "interpreter": {
     "hash": "31f2aee4e71d21fbe5cf8b01ff0e069b9275f58929596ceb00d14d90e3e16cd6"
    }
   }
  }
 },
 "nbformat": 4,
 "nbformat_minor": 2
}